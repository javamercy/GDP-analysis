{
 "cells": [
  {
   "metadata": {
    "ExecuteTime": {
     "end_time": "2025-08-21T10:54:51.311206Z",
     "start_time": "2025-08-21T10:54:51.309174Z"
    }
   },
   "cell_type": "code",
   "source": [
    "import pandas as pd\n",
    "import numpy as np\n",
    "import matplotlib as plt"
   ],
   "id": "4430b40a0081711a",
   "outputs": [],
   "execution_count": 229
  },
  {
   "metadata": {},
   "cell_type": "markdown",
   "source": [
    "- [X] Remove non-essential columns (e.g., \"Country Code\", \"Indicator Code\").\n",
    "- [X] Reshape from wide → long format (`Country`, `Year`, `GDP_per_capita`).\n",
    "- [X] Handle missing values:\n",
    "  - [X] Drop countries with >30% missing data.\n",
    "  - [X] Fill missing GDP values with linear interpolation."
   ],
   "id": "a504d3c46cfbfe27"
  },
  {
   "metadata": {
    "ExecuteTime": {
     "end_time": "2025-08-21T10:54:51.331267Z",
     "start_time": "2025-08-21T10:54:51.323904Z"
    }
   },
   "cell_type": "code",
   "source": "df = pd.read_csv(\"./data/API_NY.GDP.PCAP.CD_DS2_en_csv_v2_122367.csv\", skiprows=4)",
   "id": "ad09a84ba783f66d",
   "outputs": [],
   "execution_count": 230
  },
  {
   "metadata": {
    "ExecuteTime": {
     "end_time": "2025-08-21T10:54:51.337828Z",
     "start_time": "2025-08-21T10:54:51.336109Z"
    }
   },
   "cell_type": "code",
   "source": "data = df.copy()",
   "id": "ae3454621fb89f49",
   "outputs": [],
   "execution_count": 231
  },
  {
   "metadata": {
    "ExecuteTime": {
     "end_time": "2025-08-21T10:54:51.344407Z",
     "start_time": "2025-08-21T10:54:51.342060Z"
    }
   },
   "cell_type": "code",
   "source": [
    "# Remove non-essential columns (e.g., \"Country Code\", \"Indicator Code\").\n",
    "data.drop(\"Indicator Code\", inplace=True, axis=1)\n",
    "data.drop(\"Country Code\", inplace=True, axis=1)"
   ],
   "id": "27512e3da61fbe12",
   "outputs": [],
   "execution_count": 232
  },
  {
   "metadata": {
    "ExecuteTime": {
     "end_time": "2025-08-21T10:54:51.357411Z",
     "start_time": "2025-08-21T10:54:51.350197Z"
    }
   },
   "cell_type": "code",
   "source": "data.head()",
   "id": "6a75d3a54bd5aac9",
   "outputs": [
    {
     "data": {
      "text/plain": [
       "                  Country Name                Indicator Name        1960  \\\n",
       "0                        Aruba  GDP per capita (current US$)         NaN   \n",
       "1  Africa Eastern and Southern  GDP per capita (current US$)  186.121835   \n",
       "2                  Afghanistan  GDP per capita (current US$)         NaN   \n",
       "3   Africa Western and Central  GDP per capita (current US$)  121.939925   \n",
       "4                       Angola  GDP per capita (current US$)         NaN   \n",
       "\n",
       "         1961        1962        1963        1964        1965        1966  \\\n",
       "0         NaN         NaN         NaN         NaN         NaN         NaN   \n",
       "1  186.941781  197.402402  225.440494  208.999748  226.876513  240.955232   \n",
       "2         NaN         NaN         NaN         NaN         NaN         NaN   \n",
       "3  127.454189  133.827044  139.008291  148.549379  155.565216  162.110768   \n",
       "4         NaN         NaN         NaN         NaN         NaN         NaN   \n",
       "\n",
       "         1967  ...          2016          2017          2018          2019  \\\n",
       "0         NaN  ...  27441.529662  28440.051964  30082.127645  31096.205074   \n",
       "1  243.817323  ...   1329.807285   1520.212231   1538.901679   1493.817938   \n",
       "2         NaN  ...    522.082216    525.469771    491.337221    496.602504   \n",
       "3  144.943480  ...   1630.039447   1574.230560   1720.140280   1798.340685   \n",
       "4         NaN  ...   1807.952941   2437.259712   2538.591391   2189.855714   \n",
       "\n",
       "           2020          2021          2022          2023         2024  \\\n",
       "0  22855.932320  27200.061079  30559.533535  33984.790620          NaN   \n",
       "1   1344.103210   1522.393346   1628.318944   1568.159891  1673.841139   \n",
       "2    510.787063    356.496214    357.261153    413.757895          NaN   \n",
       "3   1680.039332   1765.954788   1796.668633   1599.392983  1284.154441   \n",
       "4   1449.922867   1925.874661   2929.694455   2309.534130  2122.083690   \n",
       "\n",
       "   Unnamed: 69  \n",
       "0          NaN  \n",
       "1          NaN  \n",
       "2          NaN  \n",
       "3          NaN  \n",
       "4          NaN  \n",
       "\n",
       "[5 rows x 68 columns]"
      ],
      "text/html": [
       "<div>\n",
       "<style scoped>\n",
       "    .dataframe tbody tr th:only-of-type {\n",
       "        vertical-align: middle;\n",
       "    }\n",
       "\n",
       "    .dataframe tbody tr th {\n",
       "        vertical-align: top;\n",
       "    }\n",
       "\n",
       "    .dataframe thead th {\n",
       "        text-align: right;\n",
       "    }\n",
       "</style>\n",
       "<table border=\"1\" class=\"dataframe\">\n",
       "  <thead>\n",
       "    <tr style=\"text-align: right;\">\n",
       "      <th></th>\n",
       "      <th>Country Name</th>\n",
       "      <th>Indicator Name</th>\n",
       "      <th>1960</th>\n",
       "      <th>1961</th>\n",
       "      <th>1962</th>\n",
       "      <th>1963</th>\n",
       "      <th>1964</th>\n",
       "      <th>1965</th>\n",
       "      <th>1966</th>\n",
       "      <th>1967</th>\n",
       "      <th>...</th>\n",
       "      <th>2016</th>\n",
       "      <th>2017</th>\n",
       "      <th>2018</th>\n",
       "      <th>2019</th>\n",
       "      <th>2020</th>\n",
       "      <th>2021</th>\n",
       "      <th>2022</th>\n",
       "      <th>2023</th>\n",
       "      <th>2024</th>\n",
       "      <th>Unnamed: 69</th>\n",
       "    </tr>\n",
       "  </thead>\n",
       "  <tbody>\n",
       "    <tr>\n",
       "      <th>0</th>\n",
       "      <td>Aruba</td>\n",
       "      <td>GDP per capita (current US$)</td>\n",
       "      <td>NaN</td>\n",
       "      <td>NaN</td>\n",
       "      <td>NaN</td>\n",
       "      <td>NaN</td>\n",
       "      <td>NaN</td>\n",
       "      <td>NaN</td>\n",
       "      <td>NaN</td>\n",
       "      <td>NaN</td>\n",
       "      <td>...</td>\n",
       "      <td>27441.529662</td>\n",
       "      <td>28440.051964</td>\n",
       "      <td>30082.127645</td>\n",
       "      <td>31096.205074</td>\n",
       "      <td>22855.932320</td>\n",
       "      <td>27200.061079</td>\n",
       "      <td>30559.533535</td>\n",
       "      <td>33984.790620</td>\n",
       "      <td>NaN</td>\n",
       "      <td>NaN</td>\n",
       "    </tr>\n",
       "    <tr>\n",
       "      <th>1</th>\n",
       "      <td>Africa Eastern and Southern</td>\n",
       "      <td>GDP per capita (current US$)</td>\n",
       "      <td>186.121835</td>\n",
       "      <td>186.941781</td>\n",
       "      <td>197.402402</td>\n",
       "      <td>225.440494</td>\n",
       "      <td>208.999748</td>\n",
       "      <td>226.876513</td>\n",
       "      <td>240.955232</td>\n",
       "      <td>243.817323</td>\n",
       "      <td>...</td>\n",
       "      <td>1329.807285</td>\n",
       "      <td>1520.212231</td>\n",
       "      <td>1538.901679</td>\n",
       "      <td>1493.817938</td>\n",
       "      <td>1344.103210</td>\n",
       "      <td>1522.393346</td>\n",
       "      <td>1628.318944</td>\n",
       "      <td>1568.159891</td>\n",
       "      <td>1673.841139</td>\n",
       "      <td>NaN</td>\n",
       "    </tr>\n",
       "    <tr>\n",
       "      <th>2</th>\n",
       "      <td>Afghanistan</td>\n",
       "      <td>GDP per capita (current US$)</td>\n",
       "      <td>NaN</td>\n",
       "      <td>NaN</td>\n",
       "      <td>NaN</td>\n",
       "      <td>NaN</td>\n",
       "      <td>NaN</td>\n",
       "      <td>NaN</td>\n",
       "      <td>NaN</td>\n",
       "      <td>NaN</td>\n",
       "      <td>...</td>\n",
       "      <td>522.082216</td>\n",
       "      <td>525.469771</td>\n",
       "      <td>491.337221</td>\n",
       "      <td>496.602504</td>\n",
       "      <td>510.787063</td>\n",
       "      <td>356.496214</td>\n",
       "      <td>357.261153</td>\n",
       "      <td>413.757895</td>\n",
       "      <td>NaN</td>\n",
       "      <td>NaN</td>\n",
       "    </tr>\n",
       "    <tr>\n",
       "      <th>3</th>\n",
       "      <td>Africa Western and Central</td>\n",
       "      <td>GDP per capita (current US$)</td>\n",
       "      <td>121.939925</td>\n",
       "      <td>127.454189</td>\n",
       "      <td>133.827044</td>\n",
       "      <td>139.008291</td>\n",
       "      <td>148.549379</td>\n",
       "      <td>155.565216</td>\n",
       "      <td>162.110768</td>\n",
       "      <td>144.943480</td>\n",
       "      <td>...</td>\n",
       "      <td>1630.039447</td>\n",
       "      <td>1574.230560</td>\n",
       "      <td>1720.140280</td>\n",
       "      <td>1798.340685</td>\n",
       "      <td>1680.039332</td>\n",
       "      <td>1765.954788</td>\n",
       "      <td>1796.668633</td>\n",
       "      <td>1599.392983</td>\n",
       "      <td>1284.154441</td>\n",
       "      <td>NaN</td>\n",
       "    </tr>\n",
       "    <tr>\n",
       "      <th>4</th>\n",
       "      <td>Angola</td>\n",
       "      <td>GDP per capita (current US$)</td>\n",
       "      <td>NaN</td>\n",
       "      <td>NaN</td>\n",
       "      <td>NaN</td>\n",
       "      <td>NaN</td>\n",
       "      <td>NaN</td>\n",
       "      <td>NaN</td>\n",
       "      <td>NaN</td>\n",
       "      <td>NaN</td>\n",
       "      <td>...</td>\n",
       "      <td>1807.952941</td>\n",
       "      <td>2437.259712</td>\n",
       "      <td>2538.591391</td>\n",
       "      <td>2189.855714</td>\n",
       "      <td>1449.922867</td>\n",
       "      <td>1925.874661</td>\n",
       "      <td>2929.694455</td>\n",
       "      <td>2309.534130</td>\n",
       "      <td>2122.083690</td>\n",
       "      <td>NaN</td>\n",
       "    </tr>\n",
       "  </tbody>\n",
       "</table>\n",
       "<p>5 rows × 68 columns</p>\n",
       "</div>"
      ]
     },
     "execution_count": 233,
     "metadata": {},
     "output_type": "execute_result"
    }
   ],
   "execution_count": 233
  },
  {
   "metadata": {
    "ExecuteTime": {
     "end_time": "2025-08-21T10:54:51.415822Z",
     "start_time": "2025-08-21T10:54:51.385082Z"
    }
   },
   "cell_type": "code",
   "source": [
    "# Reshape from wide → long format (`Country`, `Year`, `GDP_per_capita`).\n",
    "rows = []\n",
    "for row in data.iterrows():\n",
    "    country = row[1][\"Country Name\"]\n",
    "    for year in range(1960, 2024):\n",
    "        new_row = {\"Country\": country, \"Year\": year, \"GDP_per_capita\": row[1][str(year)]}\n",
    "        rows.append(new_row)\n",
    "data_long = pd.DataFrame(rows)\n",
    "data_long = data_long.reset_index(drop=True)"
   ],
   "id": "60451f9a1dc66f0d",
   "outputs": [],
   "execution_count": 234
  },
  {
   "metadata": {
    "ExecuteTime": {
     "end_time": "2025-08-21T10:54:51.452078Z",
     "start_time": "2025-08-21T10:54:51.442103Z"
    }
   },
   "cell_type": "code",
   "source": [
    "# Handle missing values:\n",
    "#   Drop countries with >30% missing data.\n",
    "#   Fill missing GDP values with linear interpolation.# Convert Year column to integer and GDP to numeric.\n",
    "\n",
    "missing = data_long.groupby(\"Country\")[\"GDP_per_capita\"].apply(lambda x: x.isna().sum())\n",
    "size = data_long.groupby(\"Country\").size()\n",
    "missing_ratio = missing / size"
   ],
   "id": "a052806778567dab",
   "outputs": [],
   "execution_count": 235
  },
  {
   "metadata": {
    "ExecuteTime": {
     "end_time": "2025-08-21T10:54:51.493221Z",
     "start_time": "2025-08-21T10:54:51.490633Z"
    }
   },
   "cell_type": "code",
   "source": [
    "countries_to_drop = missing_ratio[missing_ratio > 0.3].index\n",
    "data_long = data_long[~data_long[\"Country\"].isin(countries_to_drop)]"
   ],
   "id": "6cd4e70257c1f20a",
   "outputs": [],
   "execution_count": 236
  },
  {
   "metadata": {
    "ExecuteTime": {
     "end_time": "2025-08-21T10:54:58.898298Z",
     "start_time": "2025-08-21T10:54:58.893317Z"
    }
   },
   "cell_type": "code",
   "source": "data_long[\"GDP_per_capita\"] = data_long[\"GDP_per_capita\"].interpolate(method=\"linear\")",
   "id": "78ee54d032ac0b62",
   "outputs": [],
   "execution_count": 239
  },
  {
   "metadata": {},
   "cell_type": "markdown",
   "source": [
    "- [ ] Compute the **global mean GDP per capita** per year (line plot).\n",
    "- [ ] Identify the **richest 10 and poorest 10 countries** in the latest available year.\n",
    "- [ ] Compute **year-to-year percentage growth** for a few sample countries.\n",
    "- [ ] Use NumPy to:\n",
    "  - [ ] Calculate global mean, median, and standard deviation for each year.\n",
    "  - [ ] Identify years with unusually high volatility (std dev spikes)."
   ],
   "id": "d4826703cf7362e4"
  },
  {
   "metadata": {},
   "cell_type": "code",
   "outputs": [],
   "execution_count": null,
   "source": "",
   "id": "3e42836ca587e352"
  },
  {
   "metadata": {},
   "cell_type": "markdown",
   "source": [
    "- [ ] Add a mapping: Country → Continent (manual or external dataset).\n",
    "- [ ] Group by continent:\n",
    "  - [ ] Compute average GDP per capita per year.\n",
    "  - [ ] Plot trend lines for each continent (one line per continent).\n",
    "- [ ] Compare continents:\n",
    "  - [ ] Which is converging toward the global mean?\n",
    "  - [ ] Which is diverging further?"
   ],
   "id": "74283a2545cf40f9"
  },
  {
   "metadata": {},
   "cell_type": "markdown",
   "source": [
    "- [ ] Line plot: GDP trends of top 5 largest economies (US, China, Japan, Germany, India).\n",
    "- [ ] Histogram: Distribution of GDP per capita for all countries in 2020.\n",
    "- [ ] Boxplot: GDP per capita grouped by continent in 2020.\n",
    "- [ ] Scatter plot: GDP per capita vs Year for China and India (compare growth paths).\n",
    "- [ ] Rolling mean (5-year window) for global GDP per capita trend (smooth line plot)."
   ],
   "id": "7a72f786a0cae727"
  },
  {
   "metadata": {},
   "cell_type": "markdown",
   "source": [
    "- [ ] Standardize GDP per capita (z-score) for a given year.\n",
    "- [ ] Identify outliers (countries >3 std deviations from mean).\n",
    "- [ ] Compare outliers across decades (1970s vs 2020s).\n",
    "- [ ] Compute correlations:\n",
    "  - [ ] GDP per capita vs Population (merge population dataset).\n",
    "  - [ ] GDP per capita vs Life Expectancy (merge life expectancy dataset)."
   ],
   "id": "d54e318f006d2d93"
  }
 ],
 "metadata": {
  "kernelspec": {
   "display_name": "Python 3",
   "language": "python",
   "name": "python3"
  },
  "language_info": {
   "codemirror_mode": {
    "name": "ipython",
    "version": 2
   },
   "file_extension": ".py",
   "mimetype": "text/x-python",
   "name": "python",
   "nbconvert_exporter": "python",
   "pygments_lexer": "ipython2",
   "version": "2.7.6"
  }
 },
 "nbformat": 4,
 "nbformat_minor": 5
}
