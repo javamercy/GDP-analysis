{
 "cells": [
  {
   "metadata": {
    "ExecuteTime": {
     "end_time": "2025-08-22T11:49:06.123488Z",
     "start_time": "2025-08-22T11:49:06.120869Z"
    }
   },
   "cell_type": "code",
   "source": [
    "import pandas as pd\n",
    "import numpy as np\n",
    "import matplotlib.pyplot as plt"
   ],
   "id": "500fc4a7c8791b63",
   "outputs": [],
   "execution_count": 28
  },
  {
   "metadata": {},
   "cell_type": "markdown",
   "source": [
    "- [X] Reshape from wide → long format (`Country`, `Year`, `GDP_per_capita`).\n",
    "- [X] Handle missing values:\n",
    "  - [X] Drop countries with >30% missing data.\n",
    "  - [X] Fill missing GDP values with linear interpolation."
   ],
   "id": "a504d3c46cfbfe27"
  },
  {
   "metadata": {
    "ExecuteTime": {
     "end_time": "2025-08-22T11:49:06.139383Z",
     "start_time": "2025-08-22T11:49:06.132212Z"
    }
   },
   "cell_type": "code",
   "source": "df = pd.read_csv(\"./data/API_NY.GDP.PCAP.CD_DS2_en_csv_v2_122367.csv\", skiprows=4)",
   "id": "ad09a84ba783f66d",
   "outputs": [],
   "execution_count": 29
  },
  {
   "metadata": {
    "ExecuteTime": {
     "end_time": "2025-08-22T11:49:06.148490Z",
     "start_time": "2025-08-22T11:49:06.146586Z"
    }
   },
   "cell_type": "code",
   "source": "data = df.copy()",
   "id": "ae3454621fb89f49",
   "outputs": [],
   "execution_count": 30
  },
  {
   "metadata": {
    "ExecuteTime": {
     "end_time": "2025-08-22T11:49:06.166157Z",
     "start_time": "2025-08-22T11:49:06.159050Z"
    }
   },
   "cell_type": "code",
   "source": "data.head()",
   "id": "6a75d3a54bd5aac9",
   "outputs": [
    {
     "data": {
      "text/plain": [
       "                  Country Name Country Code                Indicator Name  \\\n",
       "0                        Aruba          ABW  GDP per capita (current US$)   \n",
       "1  Africa Eastern and Southern          AFE  GDP per capita (current US$)   \n",
       "2                  Afghanistan          AFG  GDP per capita (current US$)   \n",
       "3   Africa Western and Central          AFW  GDP per capita (current US$)   \n",
       "4                       Angola          AGO  GDP per capita (current US$)   \n",
       "\n",
       "   Indicator Code        1960        1961        1962        1963        1964  \\\n",
       "0  NY.GDP.PCAP.CD         NaN         NaN         NaN         NaN         NaN   \n",
       "1  NY.GDP.PCAP.CD  186.121835  186.941781  197.402402  225.440494  208.999748   \n",
       "2  NY.GDP.PCAP.CD         NaN         NaN         NaN         NaN         NaN   \n",
       "3  NY.GDP.PCAP.CD  121.939925  127.454189  133.827044  139.008291  148.549379   \n",
       "4  NY.GDP.PCAP.CD         NaN         NaN         NaN         NaN         NaN   \n",
       "\n",
       "         1965  ...          2016          2017          2018          2019  \\\n",
       "0         NaN  ...  27441.529662  28440.051964  30082.127645  31096.205074   \n",
       "1  226.876513  ...   1329.807285   1520.212231   1538.901679   1493.817938   \n",
       "2         NaN  ...    522.082216    525.469771    491.337221    496.602504   \n",
       "3  155.565216  ...   1630.039447   1574.230560   1720.140280   1798.340685   \n",
       "4         NaN  ...   1807.952941   2437.259712   2538.591391   2189.855714   \n",
       "\n",
       "           2020          2021          2022          2023         2024  \\\n",
       "0  22855.932320  27200.061079  30559.533535  33984.790620          NaN   \n",
       "1   1344.103210   1522.393346   1628.318944   1568.159891  1673.841139   \n",
       "2    510.787063    356.496214    357.261153    413.757895          NaN   \n",
       "3   1680.039332   1765.954788   1796.668633   1599.392983  1284.154441   \n",
       "4   1449.922867   1925.874661   2929.694455   2309.534130  2122.083690   \n",
       "\n",
       "   Unnamed: 69  \n",
       "0          NaN  \n",
       "1          NaN  \n",
       "2          NaN  \n",
       "3          NaN  \n",
       "4          NaN  \n",
       "\n",
       "[5 rows x 70 columns]"
      ],
      "text/html": [
       "<div>\n",
       "<style scoped>\n",
       "    .dataframe tbody tr th:only-of-type {\n",
       "        vertical-align: middle;\n",
       "    }\n",
       "\n",
       "    .dataframe tbody tr th {\n",
       "        vertical-align: top;\n",
       "    }\n",
       "\n",
       "    .dataframe thead th {\n",
       "        text-align: right;\n",
       "    }\n",
       "</style>\n",
       "<table border=\"1\" class=\"dataframe\">\n",
       "  <thead>\n",
       "    <tr style=\"text-align: right;\">\n",
       "      <th></th>\n",
       "      <th>Country Name</th>\n",
       "      <th>Country Code</th>\n",
       "      <th>Indicator Name</th>\n",
       "      <th>Indicator Code</th>\n",
       "      <th>1960</th>\n",
       "      <th>1961</th>\n",
       "      <th>1962</th>\n",
       "      <th>1963</th>\n",
       "      <th>1964</th>\n",
       "      <th>1965</th>\n",
       "      <th>...</th>\n",
       "      <th>2016</th>\n",
       "      <th>2017</th>\n",
       "      <th>2018</th>\n",
       "      <th>2019</th>\n",
       "      <th>2020</th>\n",
       "      <th>2021</th>\n",
       "      <th>2022</th>\n",
       "      <th>2023</th>\n",
       "      <th>2024</th>\n",
       "      <th>Unnamed: 69</th>\n",
       "    </tr>\n",
       "  </thead>\n",
       "  <tbody>\n",
       "    <tr>\n",
       "      <th>0</th>\n",
       "      <td>Aruba</td>\n",
       "      <td>ABW</td>\n",
       "      <td>GDP per capita (current US$)</td>\n",
       "      <td>NY.GDP.PCAP.CD</td>\n",
       "      <td>NaN</td>\n",
       "      <td>NaN</td>\n",
       "      <td>NaN</td>\n",
       "      <td>NaN</td>\n",
       "      <td>NaN</td>\n",
       "      <td>NaN</td>\n",
       "      <td>...</td>\n",
       "      <td>27441.529662</td>\n",
       "      <td>28440.051964</td>\n",
       "      <td>30082.127645</td>\n",
       "      <td>31096.205074</td>\n",
       "      <td>22855.932320</td>\n",
       "      <td>27200.061079</td>\n",
       "      <td>30559.533535</td>\n",
       "      <td>33984.790620</td>\n",
       "      <td>NaN</td>\n",
       "      <td>NaN</td>\n",
       "    </tr>\n",
       "    <tr>\n",
       "      <th>1</th>\n",
       "      <td>Africa Eastern and Southern</td>\n",
       "      <td>AFE</td>\n",
       "      <td>GDP per capita (current US$)</td>\n",
       "      <td>NY.GDP.PCAP.CD</td>\n",
       "      <td>186.121835</td>\n",
       "      <td>186.941781</td>\n",
       "      <td>197.402402</td>\n",
       "      <td>225.440494</td>\n",
       "      <td>208.999748</td>\n",
       "      <td>226.876513</td>\n",
       "      <td>...</td>\n",
       "      <td>1329.807285</td>\n",
       "      <td>1520.212231</td>\n",
       "      <td>1538.901679</td>\n",
       "      <td>1493.817938</td>\n",
       "      <td>1344.103210</td>\n",
       "      <td>1522.393346</td>\n",
       "      <td>1628.318944</td>\n",
       "      <td>1568.159891</td>\n",
       "      <td>1673.841139</td>\n",
       "      <td>NaN</td>\n",
       "    </tr>\n",
       "    <tr>\n",
       "      <th>2</th>\n",
       "      <td>Afghanistan</td>\n",
       "      <td>AFG</td>\n",
       "      <td>GDP per capita (current US$)</td>\n",
       "      <td>NY.GDP.PCAP.CD</td>\n",
       "      <td>NaN</td>\n",
       "      <td>NaN</td>\n",
       "      <td>NaN</td>\n",
       "      <td>NaN</td>\n",
       "      <td>NaN</td>\n",
       "      <td>NaN</td>\n",
       "      <td>...</td>\n",
       "      <td>522.082216</td>\n",
       "      <td>525.469771</td>\n",
       "      <td>491.337221</td>\n",
       "      <td>496.602504</td>\n",
       "      <td>510.787063</td>\n",
       "      <td>356.496214</td>\n",
       "      <td>357.261153</td>\n",
       "      <td>413.757895</td>\n",
       "      <td>NaN</td>\n",
       "      <td>NaN</td>\n",
       "    </tr>\n",
       "    <tr>\n",
       "      <th>3</th>\n",
       "      <td>Africa Western and Central</td>\n",
       "      <td>AFW</td>\n",
       "      <td>GDP per capita (current US$)</td>\n",
       "      <td>NY.GDP.PCAP.CD</td>\n",
       "      <td>121.939925</td>\n",
       "      <td>127.454189</td>\n",
       "      <td>133.827044</td>\n",
       "      <td>139.008291</td>\n",
       "      <td>148.549379</td>\n",
       "      <td>155.565216</td>\n",
       "      <td>...</td>\n",
       "      <td>1630.039447</td>\n",
       "      <td>1574.230560</td>\n",
       "      <td>1720.140280</td>\n",
       "      <td>1798.340685</td>\n",
       "      <td>1680.039332</td>\n",
       "      <td>1765.954788</td>\n",
       "      <td>1796.668633</td>\n",
       "      <td>1599.392983</td>\n",
       "      <td>1284.154441</td>\n",
       "      <td>NaN</td>\n",
       "    </tr>\n",
       "    <tr>\n",
       "      <th>4</th>\n",
       "      <td>Angola</td>\n",
       "      <td>AGO</td>\n",
       "      <td>GDP per capita (current US$)</td>\n",
       "      <td>NY.GDP.PCAP.CD</td>\n",
       "      <td>NaN</td>\n",
       "      <td>NaN</td>\n",
       "      <td>NaN</td>\n",
       "      <td>NaN</td>\n",
       "      <td>NaN</td>\n",
       "      <td>NaN</td>\n",
       "      <td>...</td>\n",
       "      <td>1807.952941</td>\n",
       "      <td>2437.259712</td>\n",
       "      <td>2538.591391</td>\n",
       "      <td>2189.855714</td>\n",
       "      <td>1449.922867</td>\n",
       "      <td>1925.874661</td>\n",
       "      <td>2929.694455</td>\n",
       "      <td>2309.534130</td>\n",
       "      <td>2122.083690</td>\n",
       "      <td>NaN</td>\n",
       "    </tr>\n",
       "  </tbody>\n",
       "</table>\n",
       "<p>5 rows × 70 columns</p>\n",
       "</div>"
      ]
     },
     "execution_count": 31,
     "metadata": {},
     "output_type": "execute_result"
    }
   ],
   "execution_count": 31
  },
  {
   "metadata": {
    "ExecuteTime": {
     "end_time": "2025-08-22T11:49:06.201907Z",
     "start_time": "2025-08-22T11:49:06.200389Z"
    }
   },
   "cell_type": "code",
   "source": [
    "# Reshape from wide → long format (`Country`, `Year`, `GDP_per_capita`).\n",
    "#rows = []\n",
    "#for row in data.iterrows():\n",
    "#    country = row[1][\"Country Name\"]\n",
    "#    country_code = row[1][\"Country Code\"]\n",
    "#    for year in range(1960, 2025):\n",
    "#        new_row = {\"Country\": country,\n",
    "#                  \"Country_Code\": country_code,\n",
    "#                 \"Year\": year,\n",
    "#                   \"GDP_per_capita\": row[1][str(year)]}\n",
    "#        rows.append(new_row)\n",
    "#data_long = pd.DataFrame(rows)\n",
    "#data_long = data_long.reset_index(drop=True)"
   ],
   "id": "8332b48cab6bdd62",
   "outputs": [],
   "execution_count": 32
  },
  {
   "metadata": {
    "ExecuteTime": {
     "end_time": "2025-08-22T11:49:06.256632Z",
     "start_time": "2025-08-22T11:49:06.250466Z"
    }
   },
   "cell_type": "code",
   "source": [
    "years = [c for c in data.columns if c.isdigit()]\n",
    "data_long = data.melt(\n",
    "    id_vars=[\"Country Name\", \"Country Code\"],\n",
    "    value_vars=years,\n",
    "    var_name=\"Year\",\n",
    "    value_name=\"GDP_per_capita\"\n",
    ")\n",
    "data_long[\"Year\"] = data_long[\"Year\"].astype(np.int64)\n",
    "data_long.rename({\"Country Name\": \"Country\", \"Country Code\": \"Country_Code\"}, axis=1, inplace=True)\n",
    "data_long.reset_index(drop=True, inplace=True)"
   ],
   "id": "50ee008634dd377e",
   "outputs": [],
   "execution_count": 33
  },
  {
   "metadata": {
    "ExecuteTime": {
     "end_time": "2025-08-22T11:49:06.304676Z",
     "start_time": "2025-08-22T11:49:06.294236Z"
    }
   },
   "cell_type": "code",
   "source": [
    "# Handle missing values:\n",
    "#   Drop countries with >30% missing data.\n",
    "#   Fill missing GDP values with linear interpolation.# Convert Year column to integer and GDP to numeric.\n",
    "\n",
    "missing = data_long.groupby(\"Country\")[\"GDP_per_capita\"].apply(lambda x: x.isna().sum())\n",
    "size = data_long.groupby(\"Country\").size()\n",
    "missing_ratio = missing / size"
   ],
   "id": "359d7423b6ae3e6e",
   "outputs": [],
   "execution_count": 34
  },
  {
   "metadata": {
    "ExecuteTime": {
     "end_time": "2025-08-22T11:49:06.345180Z",
     "start_time": "2025-08-22T11:49:06.341741Z"
    }
   },
   "cell_type": "code",
   "source": [
    "countries_to_drop = missing_ratio[missing_ratio > 0.3].index\n",
    "data_long = data_long[~data_long[\"Country\"].isin(countries_to_drop)].copy()"
   ],
   "id": "e6374e751f8f9e15",
   "outputs": [],
   "execution_count": 35
  },
  {
   "metadata": {
    "ExecuteTime": {
     "end_time": "2025-08-22T11:49:06.377731Z",
     "start_time": "2025-08-22T11:49:06.357264Z"
    }
   },
   "cell_type": "code",
   "source": [
    "data_long[\"GDP_per_capita\"] = data_long.sort_values([\"Country\", \"Year\"]).groupby(\"Country\")[\"GDP_per_capita\"].transform(\n",
    "    lambda x: x.interpolate(limit_direction=\"both\"))"
   ],
   "id": "70caeabfac14da44",
   "outputs": [],
   "execution_count": 36
  },
  {
   "metadata": {},
   "cell_type": "markdown",
   "source": [
    "- [X] Compute the **global mean GDP per capita** per year (line plot).\n",
    "- [X] Identify the **richest 10 and poorest 10 countries** in the latest available year.\n",
    "- [X] Compute **year-to-year percentage growth** for a few sample countries.\n",
    "- [X] Use NumPy to:\n",
    "  - [X] Calculate global mean, median, and standard deviation for each year.\n",
    "  - [X] Identify years with unusually high volatility (std dev spikes)."
   ],
   "id": "d4826703cf7362e4"
  },
  {
   "metadata": {
    "ExecuteTime": {
     "end_time": "2025-08-22T11:49:06.388119Z",
     "start_time": "2025-08-22T11:49:06.385371Z"
    }
   },
   "cell_type": "code",
   "source": [
    "# Compute the global mean GDP per capita per year (line plot).\n",
    "global_gdp_per_year = data_long.groupby(\"Year\")[\"GDP_per_capita\"].mean()"
   ],
   "id": "3e42836ca587e352",
   "outputs": [],
   "execution_count": 37
  },
  {
   "metadata": {
    "ExecuteTime": {
     "end_time": "2025-08-22T11:49:06.401231Z",
     "start_time": "2025-08-22T11:49:06.396657Z"
    }
   },
   "cell_type": "code",
   "source": [
    "#  Identify the richest 10 and poorest 10 countries in the latest available year.\n",
    "latest_year = data_long[\"Year\"].max()\n",
    "latest_year_gdp_data = data_long[data_long[\"Year\"] == latest_year].dropna().sort_values(\n",
    "    \"GDP_per_capita\", ascending=False)\n",
    "poorest_ten = latest_year_gdp_data.tail(10)\n",
    "richest_ten = latest_year_gdp_data.head(10)\n",
    "poorest_ten, richest_ten"
   ],
   "id": "5d90a524d262bf34",
   "outputs": [
    {
     "data": {
      "text/plain": [
       "(                        Country Country_Code  Year  GDP_per_capita\n",
       " 17251      Syrian Arab Republic          SYR  2024      847.372723\n",
       " 17155                   Liberia          LBR  2024      846.277368\n",
       " 17198                   Nigeria          NGA  2024      806.945695\n",
       " 17160                Low income          LIC  2024      746.934789\n",
       " 17197                     Niger          NER  2024      722.748650\n",
       " 17067          Congo, Dem. Rep.          COD  2024      647.435705\n",
       " 17237                   Somalia          SOM  2024      636.983478\n",
       " 17175                Madagascar          MDG  2024      544.997303\n",
       " 17058  Central African Republic          CAF  2024      516.170425\n",
       " 17040                   Burundi          BDI  2024      153.930218,\n",
       "              Country Country_Code  Year  GDP_per_capita\n",
       " 17173         Monaco          MCO  2024   256580.515123\n",
       " 17161  Liechtenstein          LIE  2024   207973.617747\n",
       " 17051        Bermuda          BMU  2024   138934.958846\n",
       " 17168     Luxembourg          LUX  2024   137516.587324\n",
       " 17135        Ireland          IRL  2024   107316.337307\n",
       " 17061    Switzerland          CHE  2024   103669.872008\n",
       " 17232      Singapore          SGP  2024    90674.066633\n",
       " 17201         Norway          NOR  2024    86809.724690\n",
       " 17275  United States          USA  2024    85809.900385\n",
       " 17138        Iceland          ISL  2024    82703.857994)"
      ]
     },
     "execution_count": 38,
     "metadata": {},
     "output_type": "execute_result"
    }
   ],
   "execution_count": 38
  },
  {
   "metadata": {
    "ExecuteTime": {
     "end_time": "2025-08-22T11:49:06.426497Z",
     "start_time": "2025-08-22T11:49:06.416362Z"
    }
   },
   "cell_type": "code",
   "source": [
    "# Compute year-to-year percentage growth for a few sample countries.\n",
    "countries = np.array([\"China\", \"United States\", \"Germany\", \"Turkiye\"])\n",
    "pct_growth_per_year = pd.DataFrame(columns=countries, index=range(data_long[\"Year\"].min(), data_long[\"Year\"].max() + 1))\n",
    "\n",
    "for country in countries:\n",
    "    country_data = data_long[data_long[\"Country\"] == country].sort_values(\"Year\").reset_index(drop=True)\n",
    "pct_growth = country_data[\"GDP_per_capita\"].pct_change()\n",
    "pct_growth_per_year[country] = pct_growth.values\n",
    "\n",
    "pct_growth_per_year"
   ],
   "id": "4c08f38735c5f15",
   "outputs": [
    {
     "data": {
      "text/plain": [
       "     China United States Germany   Turkiye\n",
       "1960   NaN           NaN     NaN       NaN\n",
       "1961   NaN           NaN     NaN  0.027181\n",
       "1962   NaN           NaN     NaN  0.087079\n",
       "1963   NaN           NaN     NaN  0.130025\n",
       "1964   NaN           NaN     NaN  0.051468\n",
       "...    ...           ...     ...       ...\n",
       "2020   NaN           NaN     NaN -0.062580\n",
       "2021   NaN           NaN     NaN  0.127851\n",
       "2022   NaN           NaN     NaN  0.095584\n",
       "2023   NaN           NaN     NaN  0.227753\n",
       "2024   NaN           NaN     NaN  0.180657\n",
       "\n",
       "[65 rows x 4 columns]"
      ],
      "text/html": [
       "<div>\n",
       "<style scoped>\n",
       "    .dataframe tbody tr th:only-of-type {\n",
       "        vertical-align: middle;\n",
       "    }\n",
       "\n",
       "    .dataframe tbody tr th {\n",
       "        vertical-align: top;\n",
       "    }\n",
       "\n",
       "    .dataframe thead th {\n",
       "        text-align: right;\n",
       "    }\n",
       "</style>\n",
       "<table border=\"1\" class=\"dataframe\">\n",
       "  <thead>\n",
       "    <tr style=\"text-align: right;\">\n",
       "      <th></th>\n",
       "      <th>China</th>\n",
       "      <th>United States</th>\n",
       "      <th>Germany</th>\n",
       "      <th>Turkiye</th>\n",
       "    </tr>\n",
       "  </thead>\n",
       "  <tbody>\n",
       "    <tr>\n",
       "      <th>1960</th>\n",
       "      <td>NaN</td>\n",
       "      <td>NaN</td>\n",
       "      <td>NaN</td>\n",
       "      <td>NaN</td>\n",
       "    </tr>\n",
       "    <tr>\n",
       "      <th>1961</th>\n",
       "      <td>NaN</td>\n",
       "      <td>NaN</td>\n",
       "      <td>NaN</td>\n",
       "      <td>0.027181</td>\n",
       "    </tr>\n",
       "    <tr>\n",
       "      <th>1962</th>\n",
       "      <td>NaN</td>\n",
       "      <td>NaN</td>\n",
       "      <td>NaN</td>\n",
       "      <td>0.087079</td>\n",
       "    </tr>\n",
       "    <tr>\n",
       "      <th>1963</th>\n",
       "      <td>NaN</td>\n",
       "      <td>NaN</td>\n",
       "      <td>NaN</td>\n",
       "      <td>0.130025</td>\n",
       "    </tr>\n",
       "    <tr>\n",
       "      <th>1964</th>\n",
       "      <td>NaN</td>\n",
       "      <td>NaN</td>\n",
       "      <td>NaN</td>\n",
       "      <td>0.051468</td>\n",
       "    </tr>\n",
       "    <tr>\n",
       "      <th>...</th>\n",
       "      <td>...</td>\n",
       "      <td>...</td>\n",
       "      <td>...</td>\n",
       "      <td>...</td>\n",
       "    </tr>\n",
       "    <tr>\n",
       "      <th>2020</th>\n",
       "      <td>NaN</td>\n",
       "      <td>NaN</td>\n",
       "      <td>NaN</td>\n",
       "      <td>-0.062580</td>\n",
       "    </tr>\n",
       "    <tr>\n",
       "      <th>2021</th>\n",
       "      <td>NaN</td>\n",
       "      <td>NaN</td>\n",
       "      <td>NaN</td>\n",
       "      <td>0.127851</td>\n",
       "    </tr>\n",
       "    <tr>\n",
       "      <th>2022</th>\n",
       "      <td>NaN</td>\n",
       "      <td>NaN</td>\n",
       "      <td>NaN</td>\n",
       "      <td>0.095584</td>\n",
       "    </tr>\n",
       "    <tr>\n",
       "      <th>2023</th>\n",
       "      <td>NaN</td>\n",
       "      <td>NaN</td>\n",
       "      <td>NaN</td>\n",
       "      <td>0.227753</td>\n",
       "    </tr>\n",
       "    <tr>\n",
       "      <th>2024</th>\n",
       "      <td>NaN</td>\n",
       "      <td>NaN</td>\n",
       "      <td>NaN</td>\n",
       "      <td>0.180657</td>\n",
       "    </tr>\n",
       "  </tbody>\n",
       "</table>\n",
       "<p>65 rows × 4 columns</p>\n",
       "</div>"
      ]
     },
     "execution_count": 39,
     "metadata": {},
     "output_type": "execute_result"
    }
   ],
   "execution_count": 39
  },
  {
   "metadata": {
    "ExecuteTime": {
     "end_time": "2025-08-22T11:49:06.463807Z",
     "start_time": "2025-08-22T11:49:06.460385Z"
    }
   },
   "cell_type": "code",
   "source": [
    "# Use NumPy to:\n",
    "#   Calculate global mean, median, and standard deviation for each year.\n",
    "#   Identify years with unusually high volatility (std dev spikes).\n",
    "data_long.groupby(\"Year\")[\"GDP_per_capita\"].mean()"
   ],
   "id": "60a4ebcc89bc42d",
   "outputs": [
    {
     "data": {
      "text/plain": [
       "Year\n",
       "1960      647.261238\n",
       "1961      666.326766\n",
       "1962      683.979601\n",
       "1963      709.723329\n",
       "1964      745.955024\n",
       "            ...     \n",
       "2020    16861.256596\n",
       "2021    19431.656910\n",
       "2022    20073.703925\n",
       "2023    20857.713208\n",
       "2024    21475.690248\n",
       "Name: GDP_per_capita, Length: 65, dtype: float64"
      ]
     },
     "execution_count": 40,
     "metadata": {},
     "output_type": "execute_result"
    }
   ],
   "execution_count": 40
  },
  {
   "metadata": {
    "ExecuteTime": {
     "end_time": "2025-08-22T11:49:06.671700Z",
     "start_time": "2025-08-22T11:49:06.668398Z"
    }
   },
   "cell_type": "code",
   "source": "data_long.groupby(\"Year\")[\"GDP_per_capita\"].median()\n",
   "id": "64d53a381917e414",
   "outputs": [
    {
     "data": {
      "text/plain": [
       "Year\n",
       "1960     269.038073\n",
       "1961     279.016489\n",
       "1962     285.473073\n",
       "1963     291.800007\n",
       "1964     305.532203\n",
       "           ...     \n",
       "2020    5722.480995\n",
       "2021    6681.708952\n",
       "2022    6909.352818\n",
       "2023    7000.836605\n",
       "2024    7466.651865\n",
       "Name: GDP_per_capita, Length: 65, dtype: float64"
      ]
     },
     "execution_count": 41,
     "metadata": {},
     "output_type": "execute_result"
    }
   ],
   "execution_count": 41
  },
  {
   "metadata": {
    "ExecuteTime": {
     "end_time": "2025-08-22T11:49:06.717341Z",
     "start_time": "2025-08-22T11:49:06.713736Z"
    }
   },
   "cell_type": "code",
   "source": [
    "gdp_std_per_year = data_long.groupby(\"Year\")[\"GDP_per_capita\"].std()\n",
    "gdp_std_per_year"
   ],
   "id": "d6914e075d978fc1",
   "outputs": [
    {
     "data": {
      "text/plain": [
       "Year\n",
       "1960     1124.981351\n",
       "1961     1133.786970\n",
       "1962     1144.724342\n",
       "1963     1153.564929\n",
       "1964     1179.580961\n",
       "            ...     \n",
       "2020    25993.682178\n",
       "2021    30944.304290\n",
       "2022    31091.932692\n",
       "2023    33058.525884\n",
       "2024    33610.095278\n",
       "Name: GDP_per_capita, Length: 65, dtype: float64"
      ]
     },
     "execution_count": 42,
     "metadata": {},
     "output_type": "execute_result"
    }
   ],
   "execution_count": 42
  },
  {
   "metadata": {
    "ExecuteTime": {
     "end_time": "2025-08-22T11:49:06.811810Z",
     "start_time": "2025-08-22T11:49:06.808904Z"
    }
   },
   "cell_type": "code",
   "source": [
    "volatility_threshold = gdp_std_per_year.mean() + 2 * gdp_std_per_year.std()\n",
    "gdp_std_per_year[gdp_std_per_year > volatility_threshold]"
   ],
   "id": "f1be48122087153c",
   "outputs": [
    {
     "data": {
      "text/plain": [
       "Year\n",
       "2024    33610.095278\n",
       "Name: GDP_per_capita, dtype: float64"
      ]
     },
     "execution_count": 43,
     "metadata": {},
     "output_type": "execute_result"
    }
   ],
   "execution_count": 43
  },
  {
   "metadata": {},
   "cell_type": "markdown",
   "source": [
    "- [X] Add a mapping: Country → Continent (manual or external dataset).\n",
    "- [X] Group by continent:\n",
    "  - [X] Compute average GDP per capita per year.\n",
    "  - [X] Plot trend lines for each continent (one line per continent)."
   ],
   "id": "855d4a1bffb1d5de"
  },
  {
   "metadata": {
    "ExecuteTime": {
     "end_time": "2025-08-22T11:49:06.958354Z",
     "start_time": "2025-08-22T11:49:06.955278Z"
    }
   },
   "cell_type": "code",
   "source": "continents_data = pd.read_csv(\"./data/country-and-continent-codes-list.csv\")",
   "id": "b8979246af8c340a",
   "outputs": [],
   "execution_count": 44
  },
  {
   "metadata": {
    "ExecuteTime": {
     "end_time": "2025-08-22T11:49:07.064938Z",
     "start_time": "2025-08-22T11:49:07.059767Z"
    }
   },
   "cell_type": "code",
   "source": [
    "# Add a mapping: Country → Continent (manual or external dataset).\n",
    "data_long = data_long.merge(\n",
    "    continents_data,\n",
    "    left_on=\"Country_Code\",\n",
    "    right_on=\"Three_Letter_Country_Code\",\n",
    "    how=\"left\")[[\"Country\", \"Continent_Name\", \"Year\", \"GDP_per_capita\"]]"
   ],
   "id": "626ad0333dfaa155",
   "outputs": [],
   "execution_count": 45
  },
  {
   "metadata": {
    "ExecuteTime": {
     "end_time": "2025-08-22T11:49:07.099577Z",
     "start_time": "2025-08-22T11:49:07.092845Z"
    }
   },
   "cell_type": "code",
   "source": [
    "# Group by continent:\n",
    "# - Compute average GDP per capita per year.\n",
    "# - Plot trend lines for each continent (one line per continent).\n",
    "continent_trends = data_long.groupby([\"Continent_Name\", \"Year\"])[\"GDP_per_capita\"].mean().reset_index().sort_values(\n",
    "    [\"Year\", \"Continent_Name\"])\n",
    "continent_trends"
   ],
   "id": "1e36c49efa4047",
   "outputs": [
    {
     "data": {
      "text/plain": [
       "    Continent_Name  Year  GDP_per_capita\n",
       "0           Africa  1960      179.659377\n",
       "65            Asia  1960      636.473861\n",
       "130         Europe  1960     1782.347708\n",
       "195  North America  1960      731.484666\n",
       "260        Oceania  1960      935.844807\n",
       "..             ...   ...             ...\n",
       "129           Asia  2024    21463.675311\n",
       "194         Europe  2024    71958.128810\n",
       "259  North America  2024    25965.893333\n",
       "324        Oceania  2024    15240.746181\n",
       "389  South America  2024    12639.270369\n",
       "\n",
       "[390 rows x 3 columns]"
      ],
      "text/html": [
       "<div>\n",
       "<style scoped>\n",
       "    .dataframe tbody tr th:only-of-type {\n",
       "        vertical-align: middle;\n",
       "    }\n",
       "\n",
       "    .dataframe tbody tr th {\n",
       "        vertical-align: top;\n",
       "    }\n",
       "\n",
       "    .dataframe thead th {\n",
       "        text-align: right;\n",
       "    }\n",
       "</style>\n",
       "<table border=\"1\" class=\"dataframe\">\n",
       "  <thead>\n",
       "    <tr style=\"text-align: right;\">\n",
       "      <th></th>\n",
       "      <th>Continent_Name</th>\n",
       "      <th>Year</th>\n",
       "      <th>GDP_per_capita</th>\n",
       "    </tr>\n",
       "  </thead>\n",
       "  <tbody>\n",
       "    <tr>\n",
       "      <th>0</th>\n",
       "      <td>Africa</td>\n",
       "      <td>1960</td>\n",
       "      <td>179.659377</td>\n",
       "    </tr>\n",
       "    <tr>\n",
       "      <th>65</th>\n",
       "      <td>Asia</td>\n",
       "      <td>1960</td>\n",
       "      <td>636.473861</td>\n",
       "    </tr>\n",
       "    <tr>\n",
       "      <th>130</th>\n",
       "      <td>Europe</td>\n",
       "      <td>1960</td>\n",
       "      <td>1782.347708</td>\n",
       "    </tr>\n",
       "    <tr>\n",
       "      <th>195</th>\n",
       "      <td>North America</td>\n",
       "      <td>1960</td>\n",
       "      <td>731.484666</td>\n",
       "    </tr>\n",
       "    <tr>\n",
       "      <th>260</th>\n",
       "      <td>Oceania</td>\n",
       "      <td>1960</td>\n",
       "      <td>935.844807</td>\n",
       "    </tr>\n",
       "    <tr>\n",
       "      <th>...</th>\n",
       "      <td>...</td>\n",
       "      <td>...</td>\n",
       "      <td>...</td>\n",
       "    </tr>\n",
       "    <tr>\n",
       "      <th>129</th>\n",
       "      <td>Asia</td>\n",
       "      <td>2024</td>\n",
       "      <td>21463.675311</td>\n",
       "    </tr>\n",
       "    <tr>\n",
       "      <th>194</th>\n",
       "      <td>Europe</td>\n",
       "      <td>2024</td>\n",
       "      <td>71958.128810</td>\n",
       "    </tr>\n",
       "    <tr>\n",
       "      <th>259</th>\n",
       "      <td>North America</td>\n",
       "      <td>2024</td>\n",
       "      <td>25965.893333</td>\n",
       "    </tr>\n",
       "    <tr>\n",
       "      <th>324</th>\n",
       "      <td>Oceania</td>\n",
       "      <td>2024</td>\n",
       "      <td>15240.746181</td>\n",
       "    </tr>\n",
       "    <tr>\n",
       "      <th>389</th>\n",
       "      <td>South America</td>\n",
       "      <td>2024</td>\n",
       "      <td>12639.270369</td>\n",
       "    </tr>\n",
       "  </tbody>\n",
       "</table>\n",
       "<p>390 rows × 3 columns</p>\n",
       "</div>"
      ]
     },
     "execution_count": 46,
     "metadata": {},
     "output_type": "execute_result"
    }
   ],
   "execution_count": 46
  },
  {
   "metadata": {
    "ExecuteTime": {
     "end_time": "2025-08-22T11:49:07.219678Z",
     "start_time": "2025-08-22T11:49:07.162417Z"
    }
   },
   "cell_type": "code",
   "source": [
    "plt.figure(figsize=(12, 6))\n",
    "\n",
    "for continent in continent_trends[\"Continent_Name\"].unique():\n",
    "    subset = continent_trends[continent_trends[\"Continent_Name\"] == continent]\n",
    "plt.plot(subset[\"Year\"], subset[\"GDP_per_capita\"], label=continent)\n",
    "\n",
    "plt.title(\"GDP per Capita Trends by Continent\")\n",
    "plt.xlabel(\"Year\")\n",
    "plt.ylabel(\"Average GDP per Capita (USD)\")\n",
    "plt.legend()\n",
    "plt.show()"
   ],
   "id": "1b035ffc0a0546aa",
   "outputs": [
    {
     "data": {
      "text/plain": [
       "<Figure size 1200x600 with 1 Axes>"
      ],
      "image/png": "[encoded data removed]"
     },
     "metadata": {},
     "output_type": "display_data"
    }
   ],
   "execution_count": 47
  },
  {
   "metadata": {},
   "cell_type": "markdown",
   "source": [
    "- [X] Standardize GDP per capita (z-score) for a given year.\n",
    "- [X] Identify outliers (countries >3 std deviations from mean)."
   ],
   "id": "d54e318f006d2d93"
  },
  {
   "metadata": {
    "ExecuteTime": {
     "end_time": "2025-08-22T11:49:07.256392Z",
     "start_time": "2025-08-22T11:49:07.250501Z"
    }
   },
   "cell_type": "code",
   "source": [
    "# Standardize GDP per capita (z-score) for a given year.\n",
    "year = np.random.randint(data_long[\"Year\"].min(), data_long[\"Year\"].max(), 1)[0]\n",
    "random_year_data = data_long[data_long[\"Year\"] == year].copy()\n",
    "mean = random_year_data[\"GDP_per_capita\"].mean()\n",
    "std = random_year_data[\"GDP_per_capita\"].std()\n",
    "random_year_data[\"z_score\"] = (random_year_data[\"GDP_per_capita\"] - mean) / std\n",
    "random_year_data"
   ],
   "id": "8aec7974b7dd64de",
   "outputs": [
    {
     "data": {
      "text/plain": [
       "                          Country Continent_Name  Year  GDP_per_capita  \\\n",
       "5427  Africa Eastern and Southern            NaN  1987      665.119756   \n",
       "5428   Africa Western and Central            NaN  1987      581.523802   \n",
       "5429                      Andorra         Europe  1987    12828.151943   \n",
       "5430                   Arab World            NaN  1987     2108.585860   \n",
       "5431         United Arab Emirates           Asia  1987    23112.623421   \n",
       "...                           ...            ...   ...             ...   \n",
       "5623                        World            NaN  1987     3474.925127   \n",
       "5624                        Samoa        Oceania  1987      666.308337   \n",
       "5625                 South Africa         Africa  1987     2586.274233   \n",
       "5626                       Zambia         Africa  1987      314.999603   \n",
       "5627                     Zimbabwe         Africa  1987      726.060756   \n",
       "\n",
       "       z_score  \n",
       "5427 -0.549724  \n",
       "5428 -0.560249  \n",
       "5429  0.981670  \n",
       "5430 -0.367983  \n",
       "5431  2.276542  \n",
       "...        ...  \n",
       "5623 -0.195953  \n",
       "5624 -0.549574  \n",
       "5625 -0.307839  \n",
       "5626 -0.593806  \n",
       "5627 -0.542051  \n",
       "\n",
       "[201 rows x 5 columns]"
      ],
      "text/html": [
       "<div>\n",
       "<style scoped>\n",
       "    .dataframe tbody tr th:only-of-type {\n",
       "        vertical-align: middle;\n",
       "    }\n",
       "\n",
       "    .dataframe tbody tr th {\n",
       "        vertical-align: top;\n",
       "    }\n",
       "\n",
       "    .dataframe thead th {\n",
       "        text-align: right;\n",
       "    }\n",
       "</style>\n",
       "<table border=\"1\" class=\"dataframe\">\n",
       "  <thead>\n",
       "    <tr style=\"text-align: right;\">\n",
       "      <th></th>\n",
       "      <th>Country</th>\n",
       "      <th>Continent_Name</th>\n",
       "      <th>Year</th>\n",
       "      <th>GDP_per_capita</th>\n",
       "      <th>z_score</th>\n",
       "    </tr>\n",
       "  </thead>\n",
       "  <tbody>\n",
       "    <tr>\n",
       "      <th>5427</th>\n",
       "      <td>Africa Eastern and Southern</td>\n",
       "      <td>NaN</td>\n",
       "      <td>1987</td>\n",
       "      <td>665.119756</td>\n",
       "      <td>-0.549724</td>\n",
       "    </tr>\n",
       "    <tr>\n",
       "      <th>5428</th>\n",
       "      <td>Africa Western and Central</td>\n",
       "      <td>NaN</td>\n",
       "      <td>1987</td>\n",
       "      <td>581.523802</td>\n",
       "      <td>-0.560249</td>\n",
       "    </tr>\n",
       "    <tr>\n",
       "      <th>5429</th>\n",
       "      <td>Andorra</td>\n",
       "      <td>Europe</td>\n",
       "      <td>1987</td>\n",
       "      <td>12828.151943</td>\n",
       "      <td>0.981670</td>\n",
       "    </tr>\n",
       "    <tr>\n",
       "      <th>5430</th>\n",
       "      <td>Arab World</td>\n",
       "      <td>NaN</td>\n",
       "      <td>1987</td>\n",
       "      <td>2108.585860</td>\n",
       "      <td>-0.367983</td>\n",
       "    </tr>\n",
       "    <tr>\n",
       "      <th>5431</th>\n",
       "      <td>United Arab Emirates</td>\n",
       "      <td>Asia</td>\n",
       "      <td>1987</td>\n",
       "      <td>23112.623421</td>\n",
       "      <td>2.276542</td>\n",
       "    </tr>\n",
       "    <tr>\n",
       "      <th>...</th>\n",
       "      <td>...</td>\n",
       "      <td>...</td>\n",
       "      <td>...</td>\n",
       "      <td>...</td>\n",
       "      <td>...</td>\n",
       "    </tr>\n",
       "    <tr>\n",
       "      <th>5623</th>\n",
       "      <td>World</td>\n",
       "      <td>NaN</td>\n",
       "      <td>1987</td>\n",
       "      <td>3474.925127</td>\n",
       "      <td>-0.195953</td>\n",
       "    </tr>\n",
       "    <tr>\n",
       "      <th>5624</th>\n",
       "      <td>Samoa</td>\n",
       "      <td>Oceania</td>\n",
       "      <td>1987</td>\n",
       "      <td>666.308337</td>\n",
       "      <td>-0.549574</td>\n",
       "    </tr>\n",
       "    <tr>\n",
       "      <th>5625</th>\n",
       "      <td>South Africa</td>\n",
       "      <td>Africa</td>\n",
       "      <td>1987</td>\n",
       "      <td>2586.274233</td>\n",
       "      <td>-0.307839</td>\n",
       "    </tr>\n",
       "    <tr>\n",
       "      <th>5626</th>\n",
       "      <td>Zambia</td>\n",
       "      <td>Africa</td>\n",
       "      <td>1987</td>\n",
       "      <td>314.999603</td>\n",
       "      <td>-0.593806</td>\n",
       "    </tr>\n",
       "    <tr>\n",
       "      <th>5627</th>\n",
       "      <td>Zimbabwe</td>\n",
       "      <td>Africa</td>\n",
       "      <td>1987</td>\n",
       "      <td>726.060756</td>\n",
       "      <td>-0.542051</td>\n",
       "    </tr>\n",
       "  </tbody>\n",
       "</table>\n",
       "<p>201 rows × 5 columns</p>\n",
       "</div>"
      ]
     },
     "execution_count": 48,
     "metadata": {},
     "output_type": "execute_result"
    }
   ],
   "execution_count": 48
  },
  {
   "metadata": {
    "ExecuteTime": {
     "end_time": "2025-08-22T11:49:07.366369Z",
     "start_time": "2025-08-22T11:49:07.361829Z"
    }
   },
   "cell_type": "code",
   "source": [
    "# Identify outliers (countries >3 std deviations from mean).\n",
    "random_year_data[np.abs(random_year_data[\"z_score\"]) > 3]"
   ],
   "id": "78ac11b80fec1934",
   "outputs": [
    {
     "data": {
      "text/plain": [
       "            Country Continent_Name  Year  GDP_per_capita   z_score\n",
       "5453    Switzerland         Europe  1987    30440.510824  3.199164\n",
       "5533  Liechtenstein         Europe  1987    38206.226947  4.176911\n",
       "5541         Monaco         Europe  1987    62456.070885  7.230101"
      ],
      "text/html": [
       "<div>\n",
       "<style scoped>\n",
       "    .dataframe tbody tr th:only-of-type {\n",
       "        vertical-align: middle;\n",
       "    }\n",
       "\n",
       "    .dataframe tbody tr th {\n",
       "        vertical-align: top;\n",
       "    }\n",
       "\n",
       "    .dataframe thead th {\n",
       "        text-align: right;\n",
       "    }\n",
       "</style>\n",
       "<table border=\"1\" class=\"dataframe\">\n",
       "  <thead>\n",
       "    <tr style=\"text-align: right;\">\n",
       "      <th></th>\n",
       "      <th>Country</th>\n",
       "      <th>Continent_Name</th>\n",
       "      <th>Year</th>\n",
       "      <th>GDP_per_capita</th>\n",
       "      <th>z_score</th>\n",
       "    </tr>\n",
       "  </thead>\n",
       "  <tbody>\n",
       "    <tr>\n",
       "      <th>5453</th>\n",
       "      <td>Switzerland</td>\n",
       "      <td>Europe</td>\n",
       "      <td>1987</td>\n",
       "      <td>30440.510824</td>\n",
       "      <td>3.199164</td>\n",
       "    </tr>\n",
       "    <tr>\n",
       "      <th>5533</th>\n",
       "      <td>Liechtenstein</td>\n",
       "      <td>Europe</td>\n",
       "      <td>1987</td>\n",
       "      <td>38206.226947</td>\n",
       "      <td>4.176911</td>\n",
       "    </tr>\n",
       "    <tr>\n",
       "      <th>5541</th>\n",
       "      <td>Monaco</td>\n",
       "      <td>Europe</td>\n",
       "      <td>1987</td>\n",
       "      <td>62456.070885</td>\n",
       "      <td>7.230101</td>\n",
       "    </tr>\n",
       "  </tbody>\n",
       "</table>\n",
       "</div>"
      ]
     },
     "execution_count": 49,
     "metadata": {},
     "output_type": "execute_result"
    }
   ],
   "execution_count": 49
  },
  {
   "metadata": {},
   "cell_type": "markdown",
   "source": [
    "- [X] Line plot: GDP trends of top 5 largest economies (US, China, Japan, Germany, India).\n",
    "- [X] Histogram: Distribution of GDP per capita for all countries in 2020.\n",
    "- [X] Scatter plot: GDP per capita vs Year for China and India (compare growth paths).\n",
    "- [X] Rolling mean (5-year window) for global GDP per capita trend (smooth line plot)."
   ],
   "id": "788df726b0b9674d"
  },
  {
   "metadata": {
    "ExecuteTime": {
     "end_time": "2025-08-22T11:49:07.580180Z",
     "start_time": "2025-08-22T11:49:07.523838Z"
    }
   },
   "cell_type": "code",
   "source": [
    "# GDP trends of top 5 largest economies (US, China, Japan, Germany, India).\n",
    "countries = np.array([\"United States\", \"China\", \"Japan\", \"Germany\", \"India\"])\n",
    "\n",
    "plt.figure(figsize=(12, 6))\n",
    "largest_economies_data = data_long[data_long[\"Country\"].isin(countries)]\n",
    "for country in countries:\n",
    "    subset = largest_economies_data[largest_economies_data[\"Country\"] == country]\n",
    "plt.plot(subset[\"Year\"], subset[\"GDP_per_capita\"], label=country)\n",
    "\n",
    "plt.title(\"GDP per Capita Trends of Top 5 Largest Economies\")\n",
    "plt.xlabel(\"Year\")\n",
    "plt.ylabel(\"Average GDP per Capita (USD)\")\n",
    "plt.legend()\n",
    "plt.show()\n"
   ],
   "id": "279d5e8fa13cc12f",
   "outputs": [
    {
     "data": {
      "text/plain": [
       "<Figure size 1200x600 with 1 Axes>"
      ],
      "image/png": "[encoded data removed]"
     },
     "metadata": {},
     "output_type": "display_data"
    }
   ],
   "execution_count": 50
  },
  {
   "metadata": {
    "ExecuteTime": {
     "end_time": "2025-08-22T11:49:07.678607Z",
     "start_time": "2025-08-22T11:49:07.609380Z"
    }
   },
   "cell_type": "code",
   "source": [
    "# Histogram: Distribution of GDP per capita for all countries in 2020.\n",
    "certain_year_data = data_long[data_long[\"Year\"] == 2020]\n",
    "\n",
    "plt.figure(figsize=(12, 6))\n",
    "plt.hist(certain_year_data[\"GDP_per_capita\"], bins=100)\n",
    "plt.title(\"Distribution of GDP per Capita for All Countries in 2020\")\n",
    "plt.xlabel(\"GDP per Capita (USD)\")\n",
    "plt.ylabel(\"Count\")\n",
    "plt.show()"
   ],
   "id": "f2dab4d5d64e820e",
   "outputs": [
    {
     "data": {
      "text/plain": [
       "<Figure size 1200x600 with 1 Axes>"
      ],
      "image/png": "[encoded data removed]"
     },
     "metadata": {},
     "output_type": "display_data"
    }
   ],
   "execution_count": 51
  },
  {
   "metadata": {
    "ExecuteTime": {
     "end_time": "2025-08-22T11:49:07.806530Z",
     "start_time": "2025-08-22T11:49:07.737541Z"
    }
   },
   "cell_type": "code",
   "source": [
    "# Scatter plot: GDP per capita vs Year for China, India and, Turkiye (compare growth paths).\n",
    "china_data = data_long[data_long[\"Country\"] == \"China\"]\n",
    "india_data = data_long[data_long[\"Country\"] == \"India\"]\n",
    "turkiye_data = data_long[data_long[\"Country\"] == \"Turkiye\"]\n",
    "\n",
    "plt.figure(figsize=(12, 6))\n",
    "plt.scatter(china_data[\"Year\"], china_data[\"GDP_per_capita\"], label=\"China\", color=\"red\")\n",
    "plt.scatter(india_data[\"Year\"], india_data[\"GDP_per_capita\"], label=\"India\", color=\"blue\")\n",
    "plt.scatter(turkiye_data[\"Year\"], turkiye_data[\"GDP_per_capita\"], label=\"Turkiye\", color=\"yellow\")\n",
    "plt.title(\"GDP per Capita vs Year for China, India, and Turkiye\")\n",
    "plt.xlabel(\"Year\")\n",
    "plt.ylabel(\"GDP per Capita (USD)\")\n",
    "plt.legend()\n",
    "plt.show()"
   ],
   "id": "33ee88b8c1a13c9c",
   "outputs": [
    {
     "data": {
      "text/plain": [
       "<Figure size 1200x600 with 1 Axes>"
      ],
      "image/png": "[encoded data removed]"
     },
     "metadata": {},
     "output_type": "display_data"
    }
   ],
   "execution_count": 52
  },
  {
   "metadata": {
    "ExecuteTime": {
     "end_time": "2025-08-22T11:49:07.861948Z",
     "start_time": "2025-08-22T11:49:07.812309Z"
    }
   },
   "cell_type": "code",
   "source": [
    "# Rolling mean (5-year window) for global GDP per capita trend (smooth line plot).\n",
    "global_gdp_per_year_smoothed = global_gdp_per_year.rolling(5).mean()\n",
    "plt.figure(figsize=(12, 6))\n",
    "plt.plot(global_gdp_per_year_smoothed)\n",
    "plt.title(\"Global GDP per Capita Trend (5-Year Rolling Mean)\")\n",
    "plt.xlabel(\"Year\")\n",
    "plt.ylabel(\"Average GDP per Capita (USD)\")\n",
    "plt.show()"
   ],
   "id": "a7fe73b3e76849cc",
   "outputs": [
    {
     "data": {
      "text/plain": [
       "<Figure size 1200x600 with 1 Axes>"
      ],
      "image/png": "[encoded data removed]"
     },
     "metadata": {},
     "output_type": "display_data"
    }
   ],
   "execution_count": 53
  }
 ],
 "metadata": {
  "kernelspec": {
   "display_name": "Python 3",
   "language": "python",
   "name": "python3"
  },
  "language_info": {
   "codemirror_mode": {
    "name": "ipython",
    "version": 2
   },
   "file_extension": ".py",
   "mimetype": "text/x-python",
   "name": "python",
   "nbconvert_exporter": "python",
   "pygments_lexer": "ipython2",
   "version": "2.7.6"
  }
 },
 "nbformat": 4,
 "nbformat_minor": 5
}
